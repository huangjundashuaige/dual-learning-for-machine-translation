{
 "cells": [
  {
   "cell_type": "code",
   "execution_count": 1,
   "metadata": {},
   "outputs": [],
   "source": [
    "\n",
    "# coding: utf-8\n",
    "\n",
    "\n",
    "# dependencies\n",
    "import tensorflow as tf\n",
    "import numpy as np\n",
    "from sklearn.model_selection import train_test_split\n",
    "import time\n",
    "import data_utils\n",
    "import matplotlib.pyplot as plt"
   ]
  },
  {
   "cell_type": "code",
   "execution_count": 2,
   "metadata": {},
   "outputs": [
    {
     "name": "stdout",
     "output_type": "stream",
     "text": [
      "['you', '-', 'I', 'to', 'the', 's', 'a', 't', 'of', 'it', 'me', 'is', 'and', \"I'\", 'your', 'You', 'that', 'in', 'are', 'this', 'be', 'on', 're', 'What', 'for', 'have', 'my', 'm', \"don'\", 'here', 'know', 'not', 'do', 'il', 'go', 'we', 'no', 'what', 'think', 'all', 'one', 'with', 'Harry', 'can', 'was', 'he', 'just', 'up', 'get', 'so', 'but', 'school', 'like', \"it'\", 'him', 'The', 've', 'about', \"It'\", 'right', 'out', 'come', 'at', \"You'\", 'Oh', 'her', 'will', 'Dobby', 'Big', 'if', \"you'\", 'brother', 'Why', 'been', 'back', 'now', 'see', 'how', 'How', 'by', 'from', 'them', 'did', 'sir', 'time', 'If', 'there', 'No', 'who', 'And', 'Potter', \"can'\", 'only', 'tell', 'Well', '--', 'our', 'going', 'too', 'they', 'Yes', 'This', 'Come', 'has', 'were', 'We', 'But', 'want', 'take', 'even', 'Do', 'never', 'really', 'look', \"didn'\", 'Hey', 'day', \"That'\", 'way', 'Are', 'when', 'am', 'well', \"What'\", 'us', \"Don'\", 'little', 'two', 'home', 'told', 'must', 'So', 'years', \"we'\", 'his', 'It', 'said', 'say', 'something', 'very', 'as', 'over', 'Please', 'would', 'good', 'had', 'down', 'could', 'why', 'Get', 'teacher', 'college', 'doing', 'make', 'should', 'meet', 'an', 'some', 'she', 'shik', 'bitch', 'A', 'first', 'Who', 'need', 'sorry', 'oh', 'Du-', 'money', 'moron', 'place', 'give', \"that'\", 'Mr', 'more', 'mean', 'stop', 'kill', 'That', 'any', \"what'\", 'into', 'got', 'then', 'every', 'Mrs', 'these', 'students', 'or', 'again', 'ever', 'When', 'course', \"let'\", 'let', 'My', \"they'\", 'girl', 'much', 'gonna', 'night', 'Alex', 'Alexander', 'Have', 'off', 'always', 'Is', 'He', 'understand', 'their', 'things', 'd', 'sure', 'Now', 'friends', 'man', 'hear', 'Mara', 'drink', 'Shit', 'happened', 'better', 'year', 'They', 'Just', 'today', 'okay', 'Go', 'call', 'away', 'please', \"won'\", 'might', 'secret', 'tree', 'future', 'family', 'thing', 'teachers', 'wrong', 'Right', 'worry', 'hit', 'hell', 'other', 'nothing', 'Lee', 'Not', 'yes', 'train', 'Professor', 'Slytherin', 'Gyeon-', 'woo', 'Emma', 'high', 'leave', 'Yeah', 'where', 'ask', 'Stop', 'those', 'All', 'someone', 'still', 'change', 'met', 'through', '#', 'days', 'Good', 'fucking', 'Then', 'Where', 'Really', \"Let'\", 'many', 'Yun-', 'ju', 'find', 'straight', 'help', 'remember', 'Look', 'Ms', 'together', 'thought', 'Ron', 'Malfoy', 'Kalen', 'Sang-', 'bastard', 'father', 'lot', 'work', 'another', 'mail', 'people', 'saying', 'name', 'after', 'made', 'car', 'keep', 'talk', 'Jo', 'new', 'easy', \"he'\", 'came', 'hard', 'before', 'ago', 'love', 'three', \"isn'\", 'heard', 'dead', 'already', 'because', 'does', 'Weasley', \"She'\", 'afraid', \"They'\", 'tonight', 'Gryffindor', 'professor', 'boss', 'Thank', 'anything', 'times', 'common', 'punk', 'In', 'gone', 'world', 'Sangchun', 'around', \"We'\", 'coming', 'looking', 'wanna', 'parents', 'bit', 'done', \"He'\", 'du', \"there'\", 'yet', 'Tell', 'may', 'stay', 'last', 'fine', 'Did', 'Can', 'life', 'put', 'maybe', 'long', 'voice', 'chamber', 'next', 'machine', 'past', 'Man', 'shit', 'sense', 'best', 'hair', 'Fuck', 'Stand', 'head', 'own', 'class', 'Huh', 'than', 'uncle', 'thank', '', 'boy', 'Foundation', 'yourself', 'fault', 'stand', 'means', 'getting', 'Of', 'She', 'guys', 'once', 'Ah', 'use', 'dear', 'ah', 'exactly', 'Hermione', 'different', 'wait', 'later', 'Watchit', 'flowers', 'Uh', 'Continues', 'Growling', 'e-', 'cafe', 'care', 'found', 'tomorrow', 'pull', 'Hello', 'lost', 'mind', 'room', 'beat', 'girls', 'die', 'Wanna', 'left', 'To', 'problem', 'gangster', '2', \"There'\", 'bring', 'See', 'huh', 'Bring', 'question', 'Excuse', 'chance', 'seen', 'ready', 'believe', 'hurt', \"haven'\", 'One', \"wasn'\", 'play', 'fight', 'friend', 'Your', 'hours', 'knew', 'Here', \"couldn'\", 'There', 'Maybe', 'called', 'true', '1', 'Shin', 'safe', 'such', 'watch', 'turn', 'write', 'control', 'house', 'wizard', 'talking', 'Alley', 'quite', \"aren'\", 'Snape', 'used', 'petrified', 'Two', 'tried', 'blood', 'answer', 'Norris', 'broke', 'wear', 'listen', 'Chuckles', 'Gasping', 'Grunting', 'Eloi', 'Boss', 'went', 'Myeongdong', 'everything', 'net', 'truth', 'stupid', 'Las', 'Vegas', 'till', 'great', 'become', 'live', 'half', 'English', 'second', 'age', 'old', 'often', 'difficult', 'looked', 'far', 'late', 'Be', 'scared', 'Ji-', 'study', 'trouble', 'student', 'everyone', 'sit', 'damn', 'Take', 'enough', 'feel', 'Okay', 'without', \"doesn'\", 'pay', 'being', 'buy', 'beads', 'Let', 'moment', 'teach', 'hey', 'follow', 'grades', 'Nothing', 'mom', 'hurts', 'bad', 'Does', 'big', 'saw', 'Stay', 'working', 'each', 'face', 'forget', 'rid', 'fun', 'book', \"wouldn'\", 'luck', 'cat', 'Hogwarts', 'happen', 'born', 'writing', 'For', 'hello', 'muggles', 'letters', 'ok', 'myself', 'introduce', 'strange', 'opened', 'heir', 'perhaps', 'guess', 'kept', 'Moaning', 'Myrtle', 'wanted', 'language', 'travel', 'foot', 'I’', 'slap', 'guy', 'supposed', 'Gangnam', 'taken', 'yesterday', 'Head', 'Internet', 'seems', 'cops', 'business', 'People', 'young', 'High', 'Gye', 'fuck', 'trust', 'morning', 'motherfucker', 'Call', 'whole', 'crazy', 'happy', 'upset', 'gangsters', 'brat', 'set', \"must'\", 'food', 'Our', 'Friends', 'mother', 'along', 'real', 'lunch', 'Damn', 'books', 'Like', 'able', 'Could', 'speak', 'also', 'free', 'Hurry', 'Wow', 'Sing', \"Who'\", 'Leave', 'passed', 'dare', 'child', 'learn', 'says', 'God', 'touch', 'Bastard', 'expect', 'ahead', 'prudent', 'Excellent', 'song', 'few', 'nice', 'serious', 'looks', 'bloody', 'club', 'magic', '_BAR_', \"she'\", 'making', 'mess', 'asked', 'himself', 'forever', 'most', 'terrible', 'wish', 'yours', 'Hi', 'George', \"could'\", 'Mom', 'hope', 'Daddy', 'Nice', 'Granger', 'hold', 'Severus', 'gather', 'Know', 'pixies', 'caught', 'having', 'Argus', 'Hogwart', 'month', 'Bludger', 'win', 'great-', 'during', 'On', 'With', \"Iet'\", 'rose', 'smoke', 'dream', 'Some', 'letter', 'Or', 'read', 'promised', 'bowler', 'Philby', 'Whirring', 'Woman', 'Engine', 'park', 'Sir', 'week', 'Ticking', 'Lunar', 'Leisure', 'Living', 'Indistinct', 'Will', 'Growls', 'Kim', 'important', 'younger', 'brothers', 'son', 'fool', 'address', 'makes', 'everyday', 'unimaginable', 'Chinese', 'open', 'end', 'anyone', 'run', 'while', 'prison', 'instead', 'private', 'rates', 'round', 'Math', 'general', 'curriculum', 'early', 'Something', 'pal', 'responsibility', 'tight', 'seeing', 'close', 'picking', 'ya', 'empty', 'seat', 'rat', 'rip', 'which', 'older', 'shoes', 'idiot', 'lucky', 'Moron', 'carton', 'cigarettes', 'dinner', 'trying', 'law', 'died', 'Give', 'graduate', 'Crazy', 'bleeding', 'forgot', 'rich', 'eat', 'try', 'learned', 'middle', 'correct', 'asking', 'aware', 'kid', 'excuse', 'Open', 'door', 'uniform', 'Jesus', 'expelled', 'inside', 'ass', 'graduation', 'months', \"hye'\", 'jerk', 'least', 'hands', 'anymore', 'parent', 'Students', 'staring', 'fired', 'earth', 'front', 'funny', 'kitchen', \"late?'\", \"'Get\", \"Aren'\", 'Sorry', 'step', 'legitimate', 'spend', 'pretty', 'soon', 'scene', \"'\", 'Little', 'grade', 'women', 'sleep', 'less', 'others', 'kidding', 'dumb', 'asshole', 'kind', 'function', 'several', 'families', 'fear', 'knowledge', 'pure', 'power', 'fast', 'possibly', 'outside', 'welcome', 'Sit', 'wizards', \"Can'\", 'line', 'sound', 'hoped', 'Better', 'drive', 'blame', 'Ginny', 'raids', 'boys', 'en', 'Percy', 'Dumbledore', 'Lockhart', 'Floo', 'powder', 'clearly', 'Hagrid', 'page', 'Draco', 'Lucius', 'mention', 'hurry', 'itself', 'eh', 'hand', 'wand', 'idea', 'both', 'rules', 'stuff', 'Mandrake', 'dangerous', 'nearly', 'Colin', 'YOU', '_BAR_and', 'worst', 'rest', 'longer', 'At', 'mudblood', 'spell', 'four', 'moving', 'act', 'wrote', 'until', 'potion', \"should'\", '3', 'words', 'Polyjuice', 'ball', 'bones', 'managed', 'full', 'details', 'show', 'disarm', 'heroine', 'Cine', 'Bupyung', 'order', 'heels', 'exchange', 'Forget', 'felt', 'boyfriend', '100th', 'prettiest', 'After', 'closer', 'date', 'busy', 'under', 'same', 'living', 'forgetting', 'meant', 'Laughing', 'walk', 'Gasps', 'ring', 'Murmuring', 'Both', 'subject', 'contact', 'com', 'Vox', 'Time', 'Shouting', 'Foreign', 'Language', 'Morlocks', 'Roaring', 'Girl', 'Myeogdong', 'charge', 'These', 'graduated', 'owe', 'Byeong-', 'hun', 'setting', 'telling', '12', 'liar', 'district', 'sort', 'Write', 'incident', 'Thanks', 'Instead', 'learning', 'institute', 'Private', 'cousin', 'goes', 'Noryangjin', 'institutes', 'diplomas', 'Korean', 'Spurt', '20', 'schools', 'competent', 'School', 'admitted', 'Also', 'Nobody', 'slicks', 'Congratulations', 'proud', 'bought', 'bag', 'Hold', \"Isn'\", 'Dong-', 'Gyeong-', 'sil', 'manners', 'quiet', \"women'\", 'sister', \"'White'\", 'annoying', \"Why'\", 'hye', 'poor', 'fights', 'brats', 'minds', 'Sure', 'kids', 'fighting', 'among', 'themselves', 'notice', 'homeroom', 'Over', 'classroom', 'begin', 'tail', 'Heard', 'delivering', 'disrespect', 'defy', 'gotta', 'thorough', 'shirt', 'Buy', 'shame', 'Shut', 'red', 'Bye', 'Lady', 'mad', 'laughing', 'treat', \"Here'\", 'favor', 'yeah', 'Jerk', 'stick', 'phone', 'May', 'rather', 'forward', 'allergy', 'famous', 'elegy', 'victim', \"school'\", 'Son', 'person', 'anyway', 'academic', 'retard', 'small', 'runs', 'hospital', 'receive', 'survive', 'Help', '5', 'Christ', 'College', 'properly', 'biggest', 'Everyone', 'Inside', 'Chun-', 'guk', 'Smile', 'sing', 'garden', 'orders', 'supplementary', 'fees', 'seats', 'scholarship', 'tempered', 'temper', 'collect', 'Fucking', 'test', \"weren'\", 'weak', \"who'\", 'pathetic', 'rage', 'against', 'quit', 'catch', 'knife', \"'Go\", 'earlier', 'As', \"ilche'\", 'blow', 'Looks', 'movie', 'punch', 'flying', \"is'\", 'action', 'Want', 'forgive', 'killing', 'deal', \"student'\", 'fair', 'changed', 'country', 'harder', '6', 'marry', 'send', \"shouldn'\", 'grown', 'nephew', 'Bitches', 'upstairs', 'Dumb', 'and-', 'dot-', 'Love', 'knows', \"'Star\", 'hook', 'backward', 'start', 'none', 'else', 'motel', 'expensive', 'collects', 'resigning', 'irrational', 'X', 'equals', 'Family', 'principal', 'Sang', 'golf', 'center', 'Gang-', 'afford', 'hundred', 'dollars', 'needing', 'seem', \"Where'\", 'Imagine', 'bury', 'role', 'angry', 'Never', 'Plus', 'trivial', 'foul', 'upon', 'Stupid', 'Move', 'clouds', 'kills', 'neck', 'Most', 'suggesting', 'Chamber', 'Hedwig', 'Petunia', 'bird', 'ha', 'messages', 'freaky', 'since', 'goodness', \"Mason'\", 'arrive', 'minute', 'shall', 'waiting', 'Dudley', 'bedroom', 'elf', 'equal', 'decent', 'almost', 'spoke', 'ill', 'serve', 'Wizardry', 'plot', 'nine', 'fix', 'belong', 'Hang', 'hearing', 'heaven', 'wonderful', 'note', 'dying', 'bars', 'window', 'summer', 'Morning', 'Nine', 'works', 'ministry', 'Dad', 'indeed', 'Errol', 'sent', 'trick', '_BAR_the', \"Harry'\", 'traveled', 'D-', 'Dia-', 'gon', 'yeh', 'yer', 'Knockturn', 'glasses', 'bye', 'worried', 'Ladies', 'gentlemen', 'bet', 'alone', 'killed', 'fearful', \"Weasley'\", 'state', 'lower', 'reason', 'clock', 'missed', 'dad', 'thanks', 'damage', 'fate', 'Headmaster', 'House', 'detention', 'Sprout', 'greenhouse', 'knock', 'pair', 'earmuffs', 'quickly', 'grasp', 'mandrake', 'pot', 'move', 'doomed', 'horrible', 'YOUR', 'S', 'dark', 'art', 'Class', 'arm', 'yourselves', 'Cornish', 'lots', 'spent', 'Quidditch', 'practice', 'team', 'permission', 'gift', 'calls', 'dirty', 'conversation', \"Malfoy'\", 'birth', 'alive', 'imagine', 'helping', 'fan', 'wonder', 'spooky', 'smell', 'spiders', 'enemies', 'ware', 'written', 'guilty', 'cure', 'attention', 'fetherfethertol', 'thousands', 'Salazar', 'legend', 'muggleborns', 'centuries', 'Crabbe', 'Goyle', 'break', 'Potion', 'allows', 'lead', 'proper', 'risky', 'juice', 'grief', 'clear', 'death', 'house-', 'treated', 'vermin', 'clothes', 'repeat', 'attack', 'picture', 'daylight', \"girl'\", 'excellent', 'master', 'cast', 'SYASlHAlS', 'playing', 'Parselmouth', 'snakes', 'snake', 'lived', 'martial', 'villain', 'rain', 'His', 'King', 'possible', 'subway', 'kiss', 'choose', 'cheek', 'blue', 'Because', 'feet', 'Catch', 'Out', 'eyes', 'daughter', 'gotten', 'burglar', 'visited', 'wasted', 'AlDS', 'Actually', 'satisfy', 'blind', 'bathroom', 'coke', 'coffee', 'given', 'introduced', \"Doesn'\", 'likes', 'prepared', 'sometimes', 'Sometimes', 'feelings', 'probably', 'preparing', 'split', 'apart', 'Thinking', 'memories', 'stories', 'loved', 'While', 'thoughts', 'bridge', 'planted', 'sad', 'service', 'England', 'answers', 'rejected', 'actually', 'ideas', 'dinosaurs', 'identical', 'hats', 'street', 'Must', 'lad', 'Molly', 'Dings', 'waste', 'bookkeeper', 'Clears', 'Throat', 'Sputtering', 'Spectacular', 'Revs', 'uh', 'Chuckling', 'shivering', 'diamond', 'Giggles', 'road', 'Hmm', 'Knocking', 'funeral', 'hiding', 'jeweler', 'faith', 'I-', 'Hissing', 'surprise', 'Panting', 'Street', 'Horse', 'Flowers', 'Snorts', 'thousand', 'Revving', 'Certain', 'restrictions', 'apply', 'Blackout', 'periods', 'availability', 'lunarleisureliving', 'latest', 'update', 'lively', 're-', 'information', 'Photonic', 'human', 'Accessing', 'application', 'writings', 'H', 'G', 'Wells', 'Hartdegen', 'Machine', 'Would', 'Wait', 'Calling', \"tor'\", 'built', 'wandering', 'Horn', 'Blowing', 'mor', 'New', \"quin'\", 'tan', 'rope', 'Speaking', 'Morlock', 'jungle', 'asleep', 'answered', 'Child', 'tas', 'happening', 'Too', 'depressing', 'above', 'below', 'Faster', 'Dripping', 'bred', 'ponytail', 'Long', 'inescapable', 'result', 'Screeching', 'Godspeed', 'Singing', 'Special', 'appearance', 'jung', 'Im', 'Chang-', 'jeong', 'Written', 'Directed', 'Yun', 'Je-', 'gyun', 'Dusabu-', 'ilche', 'Hero', 'bridgehead', 'Though', 'area', 'agree', 'finish', 'reconsider', 'modest', 'matured', 'mere', 'subordinate', 'dares', 'betray', 'Hopeless', 'Apt', '303', 'Cafe', 'dumbass', 'Whatever', \"Didn'\", 'Jongro', 'Bull', 'internet', 'ignorant', 'Seriously', 'characters', 'Myeondong', 'diploma', 'problems', \"boss'\", 'absence', 'acceptance', 'Institutes', 'applause', 'improved', 'educational', 'system', 'focused', 'overall', 'final', 'spurt', 'lowered', 'Born', '1981', 'twenties', 'enter', 'public', 'ones', 'reputation', 'contribution', 'Contribution', 'co-', 'ed', 'General', 'Enters', 'Ask', 'Repeat', 'Common', 'USA', 'pants', 'Lips', 'backpack', 'stuck', 'smeared', 'darn', 'gate', 'Fooling', 'collecting', 'Answer', 'transferred', 'alright', 'Being', 'leg', 'restroom', \"boy'\", 'sissy', 'Freak', 'straighten', 'frizzled', 'insane', 'hairstyle', 'Kyeong-', 'pads', 'Anyhow', 'sloppy', 'Only', 'brand', 'Freaks', 'geeks', 'Chain', 'smoking', 'bitches', 'Hope', 'lung', 'cancer', 'rot', 'Retard', 'pity', 'harsh', 'hoodlums', 'causing', 'giving', 'placed', 'eaten', 'Pleased', 'Settle', \"one'\", 'clean-', 'duty', 'third', 'row', 'surprised', 'clean', 'Fighting', 'Solve', 'Social', 'Tatoo-', 'ism', 'pupils', 'True', 'slicking', 'story', \"'Yes\", \"M'\", \"amm!'\", \"'You\", \"hard!'\", 'shining', 'freaking', 'Godfather', 'disregard', 'disdain', 'discount', 'bum', 'single', 'coin', 'burn', 'Search', 'Teachers', 'Lights', 'Pretty', 'Always', \"people'\", 'wealth', 'beans', 'eminent', \"chairman'\", 'mother-', 'in-', 'swing', 'Had', 'Suck', 'Later', 'Was', 'tick', 'nut', \"bastard'\", 'poser', 'Lunch', 'god', 'forgetful', 'Check', \"moron'\", 'gives', 'rice', 'cakes', 'pickles', 'allergic', 'Algeria', 'Mi-', 'ja', 'singer', 'queen', 'Came', 'llia', 'borrowed', 'credit', 'card', 'fraud', 'Verbs', 'silly', 'ordered', 'Thorough', 'scholarships', \"brother'\", 'essential', \"today'\", 'global', 'society', 'league', 'However', 'Urology', 'department', 'deficit', 'encourage', 'circumcision', 'completely', 'covered', 'Sunflower', 'Doctor', 'anesthesia', 'Seojin', 'Room', 'Salon', 'murders', 'positive', 'success', 'hallelujah', 'attend', 'profit', 'location', 'know-', 'mistake', 'morons', 'dressed', 'Suit', 'tie', 'slicked', 'plays', 'hwa', 'Ahn', 'Su-', 'ni', 'Haeng-', 'Heung-', 'Mustache', 'songs', 'congenial', 'swallowtail', 'butterfly', 'sang', 'Dumbass', 'fee', 'album', 'paid', 'conspiring', 'defiant', 'hot-', 'cooperate', 'affairs', 'pockets', 'embarrassed', 'physical', 'precious', \"How'\", 'deserve', 'Misbehave', 'misbehaving', 'dog', 'Nonsense', 'nonsense', 'husband', 'sight', 'cocky', 'matter', 'rotten', 'education', 'uproar', 'violence', 'Yang', 'jik', 'Tarzan', 'jokes', 'kick', 'disrespecting', 'slice', \"'Do\", \"off...'\", \"home...?'\", 'coincidence', 'thirsty', 'proverb', \"teacher'\", 'shadow', \"'Dusabu-\", \"'Gunsabu-\", 'Understand', 'drinking', 'alcohol', 'boat', 'Study', 'slightly', 'Pay', 'liquor', 'knees', 'begging', 'forgiveness', 'sucker-', 'technical', 'term', 'Action', 'punks', 'studying', 'gansters', 'changing', \"class'\", 'clue', 'filled', 'Bong-', 'calling', 'skating', 'thin', 'ice', 'resent', 'Sleep', 'senior', 'element', 'consists', 'plutonium', 'alloy', 'PLAY', 'Play', 'brought', 'results', 'audition', 'mailed', 'Address', 'Seoul', 'Seongbukgu', 'Donam-', 'dong', 'outta', 'ticks', 'Ignorant', 'email', 'y8090@', '@', 'stupidass', '4', 'dots', 'pop', 'Translate', 'circumcised', 'pronunciation', 'awful', 'complicate', 'boundaries', \"asshole!'\", \"Shot'\", 'Photo', 'Studio', 'Shot', \"Studio'\", 'pictures', 'models', 'grab', 'laid', 'Bang', 'Spin', 'sideways', 'satisfied', 'upside', 'ladies', 'finished', 'Lend', 'lend', \"'cause\", 'underage', 'grad', 'abroad', 'An', 'investigation', 'Parents', 'Back', 'position', 'expression', 'relation', 'variable', 'studies', 'Y', 'X-', '+1', 'relations', 'shopping', 'recently', \"nam'\", 'gang', 'Fortunately', 'identity', 'graduating', 'Straighten', 'villa', 'Mercedes-', 'Benz', 'salary', 'Exactly', 'Yeong-', \"Something'\", 'fishy', 'news', \"'Our\", \"month...'\", \"'on\", \"things.'\", \"'Teachers\", 'refusing', 'improper', \"rules...'\", 'posted', 'Department', \"Education'\", 'website', 'Board', 'Audit', 'Inspection', \"President'\", 'homepage', 'By', 'planning', 'destroy', 'loving', 'ends', 'inner', 'conflict', 'Principal', 'tells', 'raise', 'feeling', 'consequences', 'Chunman', 'fulfill', 'sympathy', 'Until', 'bright', 'involved', 'participate', 'disappoint', 'Retards', 'wasting', 'selfish', 'coward', 'influenced', 'politicians', 'illegal', 'appointive', 'risking', 'matters', 'ours', 'thoughtless', 'emotions', 'depend', 'calculations', 'added', 'tuition', 'cool', \"Shin'\", 'peaking', 'syndicate', 'agitate', \"Haven'\", 'disgraced', 'conscience', 'Cocky', 'taking', 'corrupt', 'clowns', 'bunch', 'men', 'black', 'Motherfuckers', 'broken', 'Watch', 'nam', 'simple', \"'tag'\", 'Tag', 'weapons', 'Bend', 'qualification', 'examination', 'studied', 'became', 'president', 'objecting', 'background', 'cruel', 'reality', \"'You'\", \"you?'\", 'allowed', 'besides', 'Vernin', 'warning', 'bored', 'hour', 'grateful', 'raised', 'baby', 'table', '_BAR_even', \"dudley'\", 'bed', '_BAR_purity', 'hearts', 'Pumpkin', 'Which', 'schedule', '_BAR_Petunia', 'lounge', 'graciousily', 'noise', 'pretending', 'exist', 'harm_BAR_to', 'career', 'Such', 'honor', 'understands', 'wander', 'shushi', '_BAR_I', 'offend', 'Offend', 'greatness', 'aweful', 'punish', 'serves', 'bound', '_BAR_Dobby', 'protect', 'warn', 'Witchcraft', 'plotting', 'Say', 'Ok', 'lamp', 'arrives', 'folks', 'devil', 'ruined', 'Japanese', 'golfer', 'joke', \"mustn'\", 'forgotten', \"Potter'\", 'disturbed', 'strangers', 'Rescuing', 'trunk', '---------', 'escaping', 'pigeon', 'anywhere', 'Happy', 'birthday', 'hi', 'briliant', 'beds', 'starving', 'breakfast', 'jumpa', 'annoy', 'Weasleys', 'Misuse', 'Muggle', 'Artifacts', 'Office', 'loves', 'facinating', 'lord', \"Ron'\", 'flew', 'enchanted', 'save', 'rubber', 'duck', 'post', 'fetch', \"Hogwarts'\", 'miss', 'cheap', 'speel', 'manage', '_BAR_Diagon', 'Dear', 'Diagon', 'bow', \"d'\", 'doin', \"'down\", 'Skulkin', \"'around\", 'dodgy', 'ter', '_BAR_people', 'lookin', \"'fer\", 'Flesh-', \"Eatin'\", 'Slug', 'Repellent', 'ruinin', \"'the\", 'cabbages', 'repair', 'definately', 'remmeber', 'grate', 'GlLDEROY', 'LOCKHART', 'fancies', 'madem', 'Daily', 'Prophet', 'mam', 'smile', 'extraordinary', 'bookshop', 'girlfriend', 'nicely', 'scar', 'legended', 'gave', 'Voldemort', 'murderer', 'brave', 'foolish', 'creats', 'itsself', 'Muggles', 'vacant', 'expressions', 'secondhand', 'children', 'smelling', 'Arthur', 'paying', 'overtime', '_BAR_no', 'judge', 'disgrace', 'wizard_BAR_if', 'idea_BAR_of', 'disgraces', 'associating', 'sink', '10', '58', 'leaving', 'ai', 'trolley', 'gateway', 'sealed', 'leaves', '11', 'customed', 'Invisibility', 'Booster', 'faulty', 'catching', 'behind', 'sweating', 'happenning', 'Scabbers', 'shows', 'barrier', 'platform', 'three-', 'quarters', 'lads', 'castle', '7', 'risked', 'expose', 'inflict', 'Whomping', 'Willow_BAR_which', 'ground', 'Honestly', 'Silence', 'assure', 'rested', 'McGonagall', 'flouted', 'Decree', 'Restriction', 'Underage', 'reading', 'McGonagall_BAR_to', 'determine', 'appropriate', 'expel', 'impress', 'seriousness', 'repot', 'Mandrakes', 'properties', 'root', 'Mandragora', 'return', 'original', '_BAR_Mandrake', \"cry'\", 'fatal', 'hears', 'Ten', 'points', 'mandrakes', 'seedlings', 'crys', 'protections', 'flats', 'closely', 'firmly', 'sharply', 'dump', 'pour', 'sprinky', 'soil', \"Longbottom'\", 'neglecting', 'Mam', 'fainted', 'plenty', 'pots', 'headless', 'Clearwater', 'Headless', 'Nicholas', 'Creevey', 'owl', 'howler', 'ignored', 'Gran', 'WHAT', 'WEASLEY', 'HOW', 'DARE', 'STEAL', 'THAT', 'CAR', 'AM', 'ABSOLUTELY', 'DlSGUSTlNG', 'FATHER', 'IS', 'NOW', 'FAClNG', 'AN', 'INQUlRY', 'AT', 'WORK', 'AND', \"IT'\", 'ENTlRELY', 'FAULT', 'IF', 'PUT', 'ANOTHER', 'TOE', 'OUT', 'OF', 'LlNE', \"WE'\", 'LL', 'BRlNG', 'STRAlGHT', 'HOME', 'congratulations', 'defense', 'Gilderoy', 'Order', 'Merlin', 'Third', 'Honorary', 'Member', 'Dark', 'Force', 'Defense', 'League', 'five-', 'winner', 'Witch', \"Weekly'\", 'Most-', 'Charming-', 'Award', 'Bandon', 'Banshee', 'smiling', 'warned', 'job', 'against_BAR_the', 'foulest', 'creatures', 'known', 'wizardkind', 'facing', 'fears', 'harm', 'befall', 'whilst', 'scream', 'provoke', 'Freshly', 'devilish', 'tricky', 'blighters', \"_BAR_they'\", 'Peskipiksi', 'Pesternomi', 'nip', 'cage', 'immobilas', 'devising', 'program', 'Flint', 'booked', 'patch', 'Woods', 'hereby', 'owing', 'Seeker', 'seeker', 'Nimbus', 'Thousand', 'Ones', \"Draco'\", 'unlike', 'talent', 'opinion', 'filthy', 'Mudblood', 'slugs', 'opps', 'special', 'equipment', 'curse', \"Mudblood'\", 'Muggle-', 'tongue', 'usually', 'else_BAR_because', 'pure-', 'disgusting', '_BAR_there', 'halfblood', 'point', 'sigle', \"'do\", 'harry', \"Fame'\", 'fickle', 'Celebrity', 'celebrity', '_BAR_Let', 'tear', 'lit', 'drowsy', 'Great', 'Scott', \"_BAR_We'\", 'flys', 'office', \"Filth'\", 'murdered', 'proceed', 'dormitory', 'immediately', 'except', 'Gryffindors', 'unluck', 'exact', 'countercurse', 'spare', 'wall', 'swear', 'rubbish', 'simply', 'place_BAR_at', 'however', 'circumstances', 'suspicious', 'recall', 'hungry', 'heading', 'innocent', 'proven', 'punishment', 'Madem', 'healthy', '_BAR_we', 'revive', 'strongly', 'recommend', 'caution', 'turned', '_BAR_Dumbledore', '_BAR_hearding', 'voices', 'sign', 'transforming', 'animals', 'water', 'goblets', 'fethervertol', 'replacing', 'wondering', 'founded', 'ago_BAR_by', 'greatest', 'witches', 'Godric', 'Helga', 'Hufflepuff', '_BAR_Rowena', 'Ravenclaw', 'founders', 'concensused', 'harmoniously', 'wished', 'selective', 'believed', 'magical', 'within', 'all-', 'unable', 'persuade', 'desided', 'according', 'Naturally', 'searched', 'light', 'monster', \"McGonagall'\", \"hasn'\", 'returned', 'stink', 'thinks', 'scums', 'Mudbloods', 'Heir', 'pig', 'remind', '50', 'brewed', 'drinker_BAR_to', 'transform', 'temporaly', 'phisical', 'form', 'complicated', '_BAR_he', 'attacked', 'plan', '90', '30', 'Scarhead', 'wood', 'wild', 'training', 'ballet', 'Snitch', 'arms', 'BRAKYAMY', 'IMENDO', 'mend', 'speed', 'growing', 'certainly', 'painful', 'rough', 'regrowing', 'nasty', 'bussiness', 'Pumkin', 'listened', 'stopped', 'barrier_BAR_from', 'letting', 'Indeed', 'enough_BAR_to', 'chase', 'feels', 'iron', '_BAR_or', 'strangle', 'threats', 'gets', 'five', 'suppose', 'elfs', 'mark', \"elf'\", 'enslavement', 'freed', 'masters', 'present', 'history', \"this'\", 'potter', 'Madam', 'Pomfrey', 'attacker', 'Albus', 'danger', 'staff', 'feared', 'meanever', 'Secrets', 'Chamber_BAR_when', 'brewing', 'potion_BAR_in', 'comes', 'ugly', 'miserable', 'moping', 'sensitive', 'everybody', 'lights', 'events', 'recent', 'weeks', 'granted', 'dueling', 'case', 'defend', 'countless', 'occasions', 'published', 'assistant', 'sportingly', 'agreed', 'short', 'demonstration', 'youngsters', 'Potions', 'Expelliarmus', 'cares', '_BAR_but', 'obvious', 'block', 'unfriendly', 'suggestion', 'volunteer', 'causes', 'devastation', 'simpliest', 'wing', 'match', 'box', 'suggest', 'yea', 'wands', 'count', 'charms', 'opponents', 'accidents', 'Ivertasvaty', 'Rictusempra', 'Serpensortia', 'allow', 'WOLATlOUSENDULY', 'SAYASASI', 'IPARAlAPYSKE', 'accidentally', 'boa', 'constrictor', '_BAR_on', 'zoo', 'loads', \"hadn'\", 'Justin', 'speaking', 'Parseltongue', 'realize', 'knowing', 'acted', 'signal', 'vision', 'symbol', 'serpent', '_BAR_his', 'grandson', 'film', 'bounty', 'hunter', 'wears', 'slippers', \"name'\", \"story'\", 'Japan', 'invades', \"Sejong'\", 'reign', \"king'\", 'tyrant', 'Yeonsan', 'field', 'Heavy', 'pours', 'sunny', 'Jung-', 'jo', 'Science', 'advanced', 'invent', 'UFOs', 'machines', 'Someday', 'Han', 'Suk-', 'gyu', 'Shim', 'Eun-', 'Jeon', 'Do-', 'yun', 'talked', \"Warrior'\", 'Sad', 'Story', 'sketch', 'lipstick', 'station', 'games', 'Ieft', 'prize', 'Hitting', 'Again', \"Someone'\", 'Men', 'finger', 'Saw', 'opposite', 'Left', 'Switch', 'sky', \"'Cause\", 'reflection', 'sunshine', 'seasons', 'Korea', 'word', \"'worship'\", \"'Peter\", 'prepare', \"Jesus.'\", 'Ugh', 'racket', 'teeny', 'massage', 'fit', 'sneakers', 'mine', 'carry', 'panties', 'exam', 'honey', 'Phew~', 'honey~', 'umbrella', 'wet', \"daughter'\", 'Next', 'hang', 'Iet', 'Afterwards', 'Iong', 'Her', 'sounds', 'cheerful', 'celebration', '100', 'sexy', 'woman', 'naked', 'piano', 'favorite', 'Winston', \"Pachelbel'\", \"s'\", 'Canon', 'Still', 'beaten', 'humiliated', 'broad', 'drop', \"aunt'\", 'intends', 'cleverer', 'radish', 'customer', 'relived', 'Drink', 'Gee', 'Feeling', 'either', 'suspension', 'ups', 'downs', 'tough', 'cookie', 'party', 'held', 'condom', 'prevent', 'Taxi', 'Compared', 'pain', 'cured', 'slowly', 'plans', 'pocket', \"'It'\", \"condom.'\", 'prevents', 'chicken', 'soup', 'restaurant', \"'We'\", \"wishes?'\", 'tastes', \"'Hurry\", \"him.'\", 'sudden', 'seven', \"o'\", '45', 'minutes', \"'Gotta\", \"bathroom.'\", 'Eh', 'Were', 'Coffee', 'necklace', 'ex-', 'Considering', 'pushing', 'totally', 'OK', 'obedient', 'feminine', 'aim', 'intoxicated', 'surrender', 'ten', 'recite', 'Second', 'hits', 'Make', 'fencing', 'squash', 'lightly', 'Finally', 'Encourage', 'Step', 'yellow', \"passenger'\", 'hug', 'dodge', 'definitely', 'standing', 'crossroad', 'between', 'relationship', 'paper', 'express', 'mountain', 'top', 'shout', 'helpless', 'capsule', 'good-', 'repeating', 'separate', 'Should', 'Overtime', 'endure', 'loneliness', 'started', \"future'\", 'sake', 'hitting', \"'My\", 'Sassy', \"Girl'\", 'offered', 'mystery', 'sick', 'Under', 'planned', 'suddenly', 'dating', 'prayed', 'occurred', 'seemed', 'grow', 'jealous', 'liked', 'lack', 'courage', 'angel', 'Three', 'buried', 'decision', 'Iike', 'destined', 'somewhere', 'Building', 'honest', 'struck', 'lightning', 'During', 'spring', 'number', 'dial', 'prettier', 'Feel', 'photo', 'naughty', 'resemble', 'tips', 'From', 'Think', 'coincidental', 'building', 'Bell', 'Ringing', 'Tonight', 'Almost', '00', 'proposal', 'utilizing', 'solar', 'concepts', 'harnessing', 'micro-', 'energy', 'waves', 'dean', 'suggests', 'focus', 'mankind', 'benefits', 'tobacco', 'consumption', 'radical', 'faculty', 'extinct', 'discovered', 'archaeologist', 'Their', 'dim', 'devoid', 'curiosity', 'associate', 'conservatively', 'alike', 'realities', 'greet', 'huzzah', \"master'\", 'pink', 'exercise', 'scampering', 'stairs', 'wee', 'switch', 'teeth', '40s', 'cleaned', \"shepherd'\", 'pie', 'tasted', 'hat', 'Buzzes', 'crackpot', 'interesting', 'Columbia', 'University', 'corresponding', 'German', 'patent', 'clerk', 'Einstein', 'deserves', 'support', 'Practically', 'alluring', 'chalk', 'turns', 'swooning', 'Fresh', 'Driver', 'cantilevered', 'gasket', 'fuel', 'regulator', 'Blows', 'Raspberry', 'brake', 'prior', 'engagement', 'perambulate', 'horse', 'Paris', 'picked', 'Five', \"Macy'\", 'Silly', 'distracted', 'sleeping', 'awake', 'part', 'remedy', 'entire', 'Uh-', 'moonstone', 'birthstone', 'Sighs', 'cry', 'starting', 'hate', 'moved', 'protestations', 'jewelry', 'bump', 'marital', 'bliss', 'cause', 'wallet', 'gloves', 'darling', \"Philby'\", 'insisted', 'introducing', 'Wha', 'David', 'Rapid', 'cease', 'Shall', 'city', 'Bleecker', 'quick', 'Whinnies', 'walking', 'took', 'Heavens', 'passing', 'explore', 'gadget', 'promise', 'sometime', 'Everything', 'Register', 'dozen', 'roses', 'Screams', 'Easy', 'ways', 'Down', 'Announcer', 'Distorted', 'fishing', 'fully-', 'stocked', 'Sea', 'Tranquility', 'golfing', 'championship', 'Neil', 'Armstrong', 'Fifteen-', 'hundred-', 'yard', 'drives', 'Whoa-', 'ho', 'one-', 'sixth', \"Earth'\", 'gravity', 'guaranteed', 'dance', 'floor', 'reserve', 'piece', 'suit', 'Very', 'retro', 'Bet', 'cappuccino', 'engineers', 'currently', '20-', 'megaton', 'detonation', 'create', 'subterranean', 'chambers', 'Clapping', '23', 'Antiquities', 'microscans', 'charged', 'download', 'Tommy', 'sequence', 'D', 'N', 'March', 'march', 'Fifth', 'Avenue', 'Public', 'Library', 'unit', 'registration', 'NY-', '114', 'Stereopticon', 'compendium', 'Area', 'inquiry', 'accessing', 'physics', 'Mechanical', 'engineering', 'Dimensional', 'optics', 'Chronography', 'Temporal', 'causality', 'temporal', 'paradox', 'science', 'fiction', 'Practical', 'Wh-', 'cannot', 'Isaac', 'Asimov', 'Harlan', 'Ellison', '1869', '1903', 'American', 'scientist', 'eccentric', 'postulation', 'Found', 'include', 'treatise', 'creation', '1894', 'adapted', 'motion', 'Pal', 'stage', 'musical', 'Andrew', 'Lloyd', 'Webber', 'selections', 'score', 'joy', 'sorrow', 'Radio', 'designated', 'evacuation', 'arrest', 'palms', 'rock', 'demolitions', 'lunar', 'colonies', 'screwed', 'orbit', 'Explosion', 'Shh', 'Groans', 'lex', 'stone', 'jen', 'Arguing', 'decide', 'throw', 'river', 'Getting', 'named', 'Yorkers', 'friendly', 'village', 'Boy', \"sess'\", \"Sess'\", 'Steps', 'ladder', \"lon'\", 'el', 'Tomorrow', 'tire', 'questioning', 'boats', 'shape', \"child'\", 'stones', 'places', 'taught', 'tradition', 'generation', 'passeth', 'cometh', 'abideth', 'Older', \"parents'\", \"grandparents'\", 'dwell', \"Alexander'\", 'Toren', 'N-', 'York', 'ride', 'Appears', 'group', 'Run', 'nem', \"Eloi'\", \"tasal'\", 'Fight', 'Crowd', 'Has', 'followed', 'leader', 'Listen', 'accept', 'Believe', 'ghosts', 'Animals', 'Rocks', 'Falling', 'Um', 'Henry', 'James', 'Hemingway', 'sweaty', 'Plato', 'Proust', 'Pinter', 'Poe', 'Pound', 'Complete', 'Works', 'Martha', 'Stewart', 'Jules', 'Verne', 'alley', 'T', 'Eliot', 'divine', 'lending', 'library', 'temporarily', 'volume', 'sources', 'fully', 'annotated', 'somewhat', 'anecdotal', 'race', 'distinct', 'species', 'evolved', 'avoid', 'questions', 'ambition', 'six-', 'year-', '800', '000', 'recommended', 'Homeward', 'Angel', 'Thomas', 'Wolfe', 'practical', 'escape', 'east', 'describe', 'Owls', 'Hooting', 'Heartbeat', 'Growing', 'Louder', 'toward', 'Machinery', 'Clanking', 'Snorting', 'Metallic', 'Rattling', 'Yells', 'Water', 'bite', 'escaped', 'underground', 'emerge', 'sun', 'ourselves', 'castes', 'muscles', 'sinews', 'hunters', 'Bred', 'predators', 'controlled', 'theirs', 'coldly', 'Breathing', 'Heavily', 'beings', 'perversion', 'natural', 'attempt', 'futile', 'effort', 'nightmares', 'dreams', 'haunted', 'Chattering', \"Emma'\", 'existed', 'tragedy', 'Disembodied', 'Whispering', 'Voices', 'Rumbling', 'Whooshing', 'Gagging', 'Chittering', 'Grunts', 'War', 'Cry', 'Roars', 'congregation', 'stared', 'marching', 'aisle', 'Tom', 'Joe', 'Huck', 'ruin', 'drooping', 'rags', 'Kids', 'hid', 'unused', 'gallery', 'listening', 'sermon', 'Aunt', 'Polly', 'Mary', 'Harpers', 'threw', 'laboratory', 'Gren', \"'tormar'\", 'glad', 'finally', 'someplace', 'interested', 'Perhaps', 'returns', 'changes', 'doubt', 'Hoof-', 'beats', 'Low', 'Choral', 'Tribal', 'Ends', 'Ripped', 'Divxjunkie', 'Spell', 'checking', 'corrections', 'formatting', 'alph4n53@', 'yahoo']\n"
     ]
    }
   ],
   "source": [
    "X, Y, en_word2idx, en_idx2word, en_vocab, zh_word2idx, zh_idx2word, zh_vocab = data_utils.read_dataset('en_n_zh.pkl')\n",
    "print(en_vocab)"
   ]
  },
  {
   "cell_type": "code",
   "execution_count": 3,
   "metadata": {},
   "outputs": [],
   "source": [
    "# data processing\n",
    "def replace_sentence_with_unk(sentence,en_vocab):\n",
    "    for x in sentence:\n",
    "        for y in range(len(x)):\n",
    "            if x[y]  not in en_vocab:\n",
    "                x[y]='<ukn>'\n",
    "# data padding\n",
    "def data_padding(x, y=None, length = 16):\n",
    "    for i in range(len(x)):\n",
    "        #x[i] = x[i] + (length - len(x[i])) * [en_word2idx['<pad>']]\n",
    "        #y[i] = [zh_word2idx['<go>']] + y[i] + [zh_word2idx['<eos>']] + (length-len(y[i])) * [zh_word2idx['<pad>']]\n",
    "        x[i] = x[i] + (length - len(x[i])) * [en_word2idx['<pad>']]\n",
    "        if y is not None:\n",
    "            y[i] = y[i] + (length - len(y[i])) * [zh_word2idx['<pad>']]\n",
    "import random\n",
    "def generate_useless_sentence(X,vocab):\n",
    "    useless_data=[]\n",
    "    for i in range(len(X)):\n",
    "        sentence_length=len(X[random.randint(0,len(X)-1)])\n",
    "        temp_sentence=[random.randint(2,len(vocab)) for x in range(sentence_length)]\n",
    "        useless_data.append(temp_sentence)\n",
    "    return useless_data\n",
    "def mix_data(source_sentences,useless_sentences):\n",
    "    over_all_data=[]\n",
    "    label_of_mix_data=[]\n",
    "    for x in range(len(source_sentences)+len(useless_sentences)):\n",
    "        if(random.randint(0,1) is 0):\n",
    "            if len(source_sentences) is 0:\n",
    "                continue\n",
    "            over_all_data.append(source_sentences[0])\n",
    "            label_of_mix_data.append(1)\n",
    "            del source_sentences[0]\n",
    "        else:\n",
    "            if len(useless_sentences) is 0:\n",
    "                continue\n",
    "            over_all_data.append(useless_sentences[0])\n",
    "            label_of_mix_data.append(0)\n",
    "            del useless_sentences[0]\n",
    "    return over_all_data,label_of_mix_data\n",
    "#data_padding(X, Y)\n",
    "#print(Y)\n",
    "def process_data(X,en_vocab,Y,zh_vocab):\n",
    "    en_useless=generate_useless_sentence(X,en_vocab)\n",
    "    zh_useless=generate_useless_sentence(Y,zh_vocab)\n",
    "    en_all,en_label=mix_data(X,en_useless)\n",
    "    zh_all,zh_label=mix_data(Y,zh_useless)\n",
    "    data_padding(en_all)\n",
    "    data_padding(zh_all)\n",
    "    return en_all,en_label,zh_all,zh_label\n",
    "en_all,en_label,zh_all,zh_label=process_data(X,en_vocab,Y,zh_vocab)\n",
    "en_all_train,  en_all_test, en_label_train, en_label_test = train_test_split(en_all, en_label, test_size = 0.1)"
   ]
  },
  {
   "cell_type": "code",
   "execution_count": 4,
   "metadata": {},
   "outputs": [],
   "source": [
    "n_inputs = 16  # MNIST\n",
    "n_hidden0 = 32\n",
    "n_hidden1 = 64\n",
    "n_hidden2 = 32\n",
    "#n_hidden3 = 64\n",
    "#n_hidden4 = 32\n",
    "n_outputs = 2"
   ]
  },
  {
   "cell_type": "code",
   "execution_count": 5,
   "metadata": {},
   "outputs": [],
   "source": [
    "#reset_graph()\n",
    "\n",
    "X_var = tf.placeholder(tf.float32, shape=(None, n_inputs), name=\"X\")\n",
    "Y_var = tf.placeholder(tf.int64, shape=(None), name=\"y\") "
   ]
  },
  {
   "cell_type": "code",
   "execution_count": 6,
   "metadata": {},
   "outputs": [],
   "source": [
    "with tf.name_scope(\"dnn\"):\n",
    "    hidden0 = tf.layers.dense(X_var, n_hidden0, name=\"hidden0\",\n",
    "                              activation=tf.nn.relu)\n",
    "    hidden1 = tf.layers.dense(hidden0, n_hidden1, name=\"hidden1\",\n",
    "                              activation=tf.nn.relu)\n",
    "    hidden2 = tf.layers.dense(hidden1, n_hidden2, name=\"hidden2\",\n",
    "                              activation=tf.nn.relu)\n",
    "    #hidden3 = tf.layers.dense(hidden2,n_hidden3,name=\"hidden3\",\n",
    "                            # activation=tf.nn.relu)\n",
    "    #hidden4 = tf.layers.dense(hidden3,n_hidden4,name='hidden4',\n",
    "                            # activation=tf.nn.relu)\n",
    "    logits = tf.layers.dense(hidden2, n_outputs, name=\"outputs\")"
   ]
  },
  {
   "cell_type": "code",
   "execution_count": 7,
   "metadata": {},
   "outputs": [],
   "source": [
    "with tf.name_scope(\"loss\"):\n",
    "    xentropy = tf.nn.sparse_softmax_cross_entropy_with_logits(labels=Y_var, logits=logits)\n",
    "    loss = tf.reduce_mean(xentropy, name=\"loss\")\n",
    "    softmax=tf.nn.softmax(logits=logits)\n",
    "    softmax_mean=tf.reduce_mean(tf.slice(softmax,[0,1],[-1,1]))"
   ]
  },
  {
   "cell_type": "code",
   "execution_count": 8,
   "metadata": {},
   "outputs": [],
   "source": [
    "learning_rate = 0.0001\n",
    "\n",
    "with tf.name_scope(\"train\"):\n",
    "    optimizer = tf.train.GradientDescentOptimizer(learning_rate)\n",
    "    training_op = optimizer.minimize(loss)"
   ]
  },
  {
   "cell_type": "code",
   "execution_count": 9,
   "metadata": {},
   "outputs": [],
   "source": [
    "#X, Y, en_word2idx, en_idx2word, en_vocab, zh_word2idx, zh_idx2word, zh_vocab "
   ]
  },
  {
   "cell_type": "code",
   "execution_count": 10,
   "metadata": {},
   "outputs": [],
   "source": [
    "with tf.name_scope(\"eval\"):\n",
    "    correct = tf.nn.in_top_k(logits, Y_var, 1)\n",
    "    accuracy = tf.reduce_mean(tf.cast(correct, tf.float32))"
   ]
  },
  {
   "cell_type": "code",
   "execution_count": 11,
   "metadata": {},
   "outputs": [],
   "source": [
    "#print(X)\n",
    "#print([zh_idx2word[id] for id in range(len(zh_vocab))])\n"
   ]
  },
  {
   "cell_type": "code",
   "execution_count": 12,
   "metadata": {},
   "outputs": [],
   "source": [
    "#useless_data=generate_useless_sentence(X,zh_word2idx,zh_idx2word,zh_vocab)"
   ]
  },
  {
   "cell_type": "code",
   "execution_count": 13,
   "metadata": {},
   "outputs": [],
   "source": [
    "#[zh_idx2word[id] for id in useless_data[0]]\n",
    "#print(len(useless_data[0]))"
   ]
  },
  {
   "cell_type": "code",
   "execution_count": 14,
   "metadata": {},
   "outputs": [],
   "source": [
    "#[random.randint(0,1) for x in range(100)]"
   ]
  },
  {
   "cell_type": "code",
   "execution_count": 15,
   "metadata": {},
   "outputs": [],
   "source": [
    "n_epochs = 1000001\n",
    "batch_size = 50\n",
    "n_batches = int(np.ceil(len(en_all) / batch_size))\n",
    "init = tf.global_variables_initializer()"
   ]
  },
  {
   "cell_type": "code",
   "execution_count": 16,
   "metadata": {},
   "outputs": [],
   "source": [
    "def next_batch(en_all,en_vocab,batch_size):\n",
    "    current_position=0\n",
    "    while 1:\n",
    "        if current_position <= len(en_all):\n",
    "            yield en_all[current_position:current_position+batch_size],en_label[current_position:\\\n",
    "                                                                                current_position+batch_size]\n",
    "        else:\n",
    "            current_position=0\n",
    "            yield en_all[current_position:current_position+batch_size],en_label[current_position:\\\n",
    "                                                                               current_position+batch_size]\n",
    "        current_position+=batch_size"
   ]
  },
  {
   "cell_type": "code",
   "execution_count": 17,
   "metadata": {},
   "outputs": [
    {
     "name": "stdout",
     "output_type": "stream",
     "text": [
      "1967\n",
      "50\n"
     ]
    }
   ],
   "source": [
    "get=next_batch(en_all,en_vocab,batch_size)\n",
    "print(len(en_all_train))\n",
    "print(batch_size)\n",
    "checkpoint_path = \"./data/check_sentence.ckpt\"\n",
    "saver = tf.train.Saver()"
   ]
  },
  {
   "cell_type": "code",
   "execution_count": 18,
   "metadata": {},
   "outputs": [
    {
     "name": "stdout",
     "output_type": "stream",
     "text": [
      "0.5753425\n",
      "0.74429226\n",
      "0.7716895\n",
      "0.82191783\n",
      "0.80365294\n",
      "0.8082192\n",
      "0.826484\n",
      "0.8310502\n",
      "0.8310502\n",
      "0.8310502\n",
      "0.84474885\n",
      "0.8584475\n",
      "0.84931505\n",
      "0.8630137\n",
      "0.86757994\n",
      "0.8630137\n",
      "0.8584475\n",
      "0.80365294\n",
      "0.8995434\n",
      "0.89041096\n",
      "0.89041096\n",
      "0.89497715\n",
      "0.7853881\n",
      "0.89497715\n",
      "0.84474885\n",
      "0.9041096\n",
      "0.913242\n",
      "0.9041096\n",
      "0.88584477\n",
      "0.89497715\n",
      "0.8995434\n",
      "0.89497715\n",
      "0.9041096\n",
      "0.9041096\n",
      "0.9041096\n",
      "0.913242\n",
      "0.9041096\n",
      "0.89041096\n",
      "0.88584477\n",
      "0.8767123\n",
      "0.913242\n",
      "0.91780823\n",
      "0.91780823\n",
      "0.913242\n",
      "0.826484\n",
      "0.9041096\n",
      "0.8995434\n",
      "0.91780823\n",
      "0.9086758\n",
      "0.913242\n",
      "0.91780823\n",
      "0.913242\n",
      "0.9086758\n",
      "0.913242\n",
      "0.9086758\n",
      "0.9269406\n",
      "0.91780823\n",
      "0.9223744\n",
      "0.93607306\n",
      "0.9269406\n",
      "0.9223744\n",
      "0.94063926\n",
      "0.94063926\n",
      "0.9269406\n",
      "0.9223744\n",
      "0.9269406\n",
      "0.84931505\n",
      "0.9269406\n",
      "0.93607306\n",
      "0.93607306\n",
      "0.94063926\n",
      "0.9315069\n",
      "0.9269406\n",
      "0.913242\n",
      "0.94063926\n",
      "0.9315069\n",
      "0.9315069\n",
      "0.94063926\n",
      "0.9269406\n",
      "0.94520545\n",
      "0.9269406\n",
      "0.94520545\n",
      "0.93607306\n",
      "0.94063926\n",
      "0.94520545\n",
      "0.93607306\n",
      "0.93607306\n",
      "0.9315069\n",
      "0.84931505\n",
      "0.9497717\n",
      "0.9315069\n",
      "0.93607306\n",
      "0.94063926\n",
      "0.9315069\n",
      "0.9269406\n",
      "0.9086758\n",
      "0.94520545\n",
      "0.93607306\n",
      "0.94520545\n",
      "0.94520545\n",
      "0.9315069\n"
     ]
    }
   ],
   "source": [
    "\n",
    "n_epochs = 1001\n",
    "batch_size = 50\n",
    "n_batches = int(np.ceil(len(en_all_train) / batch_size))\n",
    "with tf.Session() as sess:\n",
    "    sess.run(init)\n",
    "    for epoch in range(n_epochs):\n",
    "        for iteration in range(len(en_all_train) // batch_size):\n",
    "            X_batch, Y_batch = next(get)\n",
    "            #X_batch=tf.convert_to_tensor(X_batch)\n",
    "            #Y_batch=tf.convert_to_tensor(Y_batch)\n",
    "            #print(X_batch)\n",
    "            sess.run(training_op, feed_dict={X_var: X_batch, Y_var: Y_batch})\n",
    "            #print(1)\n",
    "        accuracy_val \\\n",
    "        = sess.run(accuracy, feed_dict={X_var: en_all_test, Y_var: en_label_test})\n",
    "        if epoch % 10 is 0:\n",
    "            print(accuracy_val)\n",
    "    \n",
    "    \n",
    "    saver.save(sess, checkpoint_path)\n"
   ]
  },
  {
   "cell_type": "code",
   "execution_count": 21,
   "metadata": {},
   "outputs": [],
   "source": [
    "sentences=[['用', '用', '矛盾', '矛盾', '矛盾', '矛盾', '矛盾', '矛盾', '矛盾', '矛盾', '矛盾', '矛盾', '矛盾', '矛盾', '矛盾', '矛盾', '矛盾', '矛盾'], ['冊', '矛盾', '矛盾', '矛盾', '矛盾', '矛盾', '矛盾', '矛盾', '矛盾', '矛盾', '矛盾', '矛盾', '矛盾', '矛盾', '矛盾', '矛盾', '矛盾', '矛盾'], ['冊', '矛盾', '矛盾', '矛盾', '矛盾', '矛盾', '矛盾', '矛盾', '矛盾', '矛盾', '矛盾', '矛盾', '矛盾', '矛盾', '矛盾', '矛盾', '矛盾', '矛盾'], ['銷售', '銷售', '矛盾', '矛盾', '矛盾', '矛盾', '五', '五', '五', '五', '五', '五', '五', '五', '五', '五', '五', '老實說'], ['冊', '冊', '矛盾', '矛盾', '矛盾', '矛盾', '矛盾', '矛盾', '矛盾', '矛盾', '矛盾', '矛盾', '矛盾', '矛盾', '矛盾', '矛盾', '矛盾', '矛盾'], ['冊', '矛盾', '矛盾', '矛盾', '矛盾', '矛盾', '矛盾', '矛盾', '矛盾', '矛盾', '矛盾', '矛盾', '矛盾', '矛盾', '矛盾', '矛盾', '矛盾', '矛盾'], ['冊', '矛盾', '矛盾', '矛盾', '以及', '以及', '以及', '以及', '以及', '以及', '以及', '以及', '以及', '以及', '以及', '以及', '以及', '以及'], ['圖書館', '圖書館', '矛盾', '矛盾', '矛盾', '矛盾', '矛盾', '矛盾', '矛盾', '矛盾', '矛盾', '矛盾', '矛盾', '矛盾', '救', '救', '救', '救'], ['冊', '矛盾', '矛盾', '矛盾', '矛盾', '矛盾', '矛盾', '矛盾', '矛盾', '矛盾', '矛盾', '矛盾', '矛盾', '矛盾', '矛盾', '矛盾', '矛盾', '矛盾'], ['站在', '銷售', '聽錯', '聽錯', '聽錯', '聽錯', '聽錯', '聽錯', '五', '五', '五', '五', '五', '五', '五', '五', '五', '五'], ['冊', '冊', '矛盾', '矛盾', '矛盾', '矛盾', '矛盾', '矛盾', '矛盾', '矛盾', '矛盾', '矛盾', '矛盾', '矛盾', '矛盾', '矛盾', '矛盾', '矛盾'], ['冊', '冊', '矛盾', '矛盾', '矛盾', '矛盾', '矛盾', '矛盾', '矛盾', '矛盾', '矛盾', '矛盾', '矛盾', '矛盾', '矛盾', '矛盾', '矛盾', '矛盾'], ['事情', '事情', '矛盾', '矛盾', '矛盾', '矛盾', '矛盾', '矛盾', '矛盾', '矛盾', '矛盾', '矛盾', '矛盾', '矛盾', '矛盾', '矛盾', '矛盾', '矛盾'], ['冊', '矛盾', '矛盾', '矛盾', '矛盾', '矛盾', '矛盾', '矛盾', '矛盾', '矛盾', '矛盾', '矛盾', '矛盾', '矛盾', '矛盾', '矛盾', '矛盾', '矛盾'], ['冊', '矛盾', '矛盾', '矛盾', '矛盾', '矛盾', '矛盾', '矛盾', '矛盾', '矛盾', '矛盾', '矛盾', '矛盾', '矛盾', '矛盾', '矛盾', '矛盾', '矛盾'], ['冊', '冊', '矛盾', '以及', '以及', '以及', '以及', '以及', '以及', '以及', '以及', '以及', '以及', '以及', '以及', '行李車', '行李車', '行李車'], ['冊', '矛盾', '矛盾', '矛盾', '以及', '以及', '以及', '以及', '以及', '以及', '以及', '以及', '以及', '轟', '轟', '轟', '轟', '轟'], ['站在', '用', '行李車', '行李車', '行李車', '行李車', '行李車', '行李車', '行李車', '行李車', '行李車', '行李車', '行李車', '行李車', '行李車', '行李車', '行李車', '行李車'], ['銷售', '銷售', '比的', '矛盾', '矛盾', '矛盾', '矛盾', '感到', '感到', '感到', '感到', '救', '救', '救', '救', '救', '救', '救'], ['冊', '冊', '矛盾', '矛盾', '矛盾', '矛盾', '矛盾', '矛盾', '矛盾', '矛盾', '矛盾', '矛盾', '矛盾', '矛盾', '矛盾', '轟', '轟', '轟'], ['銷售', '銷售', '矛盾', '矛盾', '矛盾', '矛盾', '矛盾', '矛盾', '矛盾', '矛盾', '矛盾', '矛盾', '矛盾', '矛盾', '矛盾', '矛盾', '矛盾', '矛盾'], ['冊', '矛盾', '矛盾', '矛盾', '矛盾', '矛盾', '矛盾', '矛盾', '矛盾', '矛盾', '矛盾', '矛盾', '矛盾', '矛盾', '矛盾', '矛盾', '矛盾', '矛盾'], ['冊', '矛盾', '矛盾', '矛盾', '矛盾', '矛盾', '矛盾', '矛盾', '矛盾', '矛盾', '矛盾', '矛盾', '矛盾', '矛盾', '矛盾', '矛盾', '矛盾', '矛盾'], ['冊', '冊', '矛盾', '矛盾', '矛盾', '矛盾', '矛盾', '矛盾', '矛盾', '矛盾', '矛盾', '矛盾', '矛盾', '矛盾', '矛盾', '矛盾', '矛盾', '矛盾'], ['銷售', '矛盾', '矛盾', '矛盾', '矛盾', '矛盾', '矛盾', '矛盾', '矛盾', '矛盾', '矛盾', '矛盾', '矛盾', '矛盾', '矛盾', '矛盾', '矛盾', '矛盾'], ['冊', '矛盾', '矛盾', '矛盾', '矛盾', '矛盾', '矛盾', '矛盾', '矛盾', '矛盾', '矛盾', '矛盾', '矛盾', '矛盾', '矛盾', '矛盾', '矛盾', '矛盾'], ['銷售', '矛盾', '矛盾', '矛盾', '矛盾', '矛盾', '矛盾', '矛盾', '矛盾', '矛盾', '矛盾', '矛盾', '矛盾', '矛盾', '矛盾', '矛盾', '矛盾', '矛盾'], ['冊', '矛盾', '矛盾', '矛盾', '矛盾', '矛盾', '矛盾', '矛盾', '矛盾', '矛盾', '矛盾', '矛盾', '矛盾', '矛盾', '矛盾', '矛盾', '矛盾', '矛盾'], ['冊', '冊', '矛盾', '矛盾', '矛盾', '矛盾', '矛盾', '矛盾', '矛盾', '矛盾', '矛盾', '矛盾', '矛盾', '矛盾', '矛盾', '矛盾', '矛盾', '矛盾'], ['聽錯', '矛盾', '矛盾', '矛盾', '矛盾', '矛盾', '矛盾', '矛盾', '矛盾', '矛盾', '矛盾', '矛盾', '矛盾', '矛盾', '矛盾', '矛盾', '矛盾', '矛盾'], ['冊', '矛盾', '矛盾', '矛盾', '矛盾', '矛盾', '矛盾', '矛盾', '矛盾', '矛盾', '矛盾', '矛盾', '矛盾', '矛盾', '矛盾', '矛盾', '矛盾', '矛盾'], ['冊', '時代', '矛盾', '矛盾', '以及', '以及', '以及', '以及', '以及', '以及', '以及', '轟', '轟', '轟', '轟', '轟', '轟', '轟'], ['冊', '冊', '矛盾', '矛盾', '矛盾', '矛盾', '矛盾', '矛盾', '矛盾', '矛盾', '矛盾', '矛盾', '矛盾', '矛盾', '矛盾', '矛盾', '矛盾', '矛盾'], ['圖書館', '聽錯', '聽錯', '聽錯', '聽錯', '聽錯', '聽錯', '聽錯', '行李車', '聽錯', '行李車', '行李車', '行李車', '行李車', '行李車', '聽錯', '聽錯', '聽錯'], ['冊', '矛盾', '矛盾', '矛盾', '矛盾', '矛盾', '矛盾', '矛盾', '矛盾', '矛盾', '矛盾', '矛盾', '矛盾', '矛盾', '矛盾', '矛盾', '矛盾', '矛盾'], ['想像', '小姐', '小姐', '時代', '時代', '矛盾', '矛盾', '矛盾', '矛盾', '救', '救', '救', '救', '救', '救', '救', '救', '救'], ['銷售', '銷售', '躺在', '躺在', '躺在', '躺在', '躺在', '躺在', '躺在', '躺在', '躺在', '躺在', '躺在', '躺在', '躺在', '躺在', '躺在', '躺在'], ['想像', '想像', '用', '用', '用', '聽錯', '聽錯', '聽錯', '聽錯', '犯', '犯', '犯', '觸', '觸', '觸', '觸', '觸', '觸'], ['冊', '矛盾', '矛盾', '矛盾', '矛盾', '矛盾', '矛盾', '矛盾', '矛盾', '矛盾', '矛盾', '矛盾', '矛盾', '矛盾', '矛盾', '矛盾', '矛盾', '矛盾'], ['站在', '站在', '矛盾', '矛盾', '矛盾', '矛盾', '冷血', '冷血', '冷血', '冷血', '冷血', '冷血', '冷血', '冷血', '冷血', '冷血', '下次', '下次'], ['冊', '矛盾', '矛盾', '矛盾', '矛盾', '矛盾', '矛盾', '矛盾', '矛盾', '矛盾', '矛盾', '矛盾', '矛盾', '矛盾', '矛盾', '矛盾', '矛盾', '矛盾'], ['冊', '聽錯', '矛盾', '矛盾', '矛盾', '矛盾', '矛盾', '矛盾', '矛盾', '矛盾', '矛盾', '矛盾', '矛盾', '矛盾', '矛盾', '矛盾', '矛盾', '矛盾'], ['冊', '矛盾', '矛盾', '矛盾', '矛盾', '矛盾', '矛盾', '矛盾', '矛盾', '矛盾', '矛盾', '矛盾', '矛盾', '矛盾', '矛盾', '矛盾', '矛盾', '矛盾'], ['冊', '矛盾', '矛盾', '矛盾', '矛盾', '矛盾', '矛盾', '矛盾', '矛盾', '矛盾', '矛盾', '矛盾', '矛盾', '矛盾', '矛盾', '矛盾', '矛盾', '矛盾'], ['冊', '矛盾', '矛盾', '矛盾', '矛盾', '矛盾', '矛盾', '矛盾', '矛盾', '矛盾', '矛盾', '矛盾', '矛盾', '矛盾', '矛盾', '矛盾', '矛盾', '矛盾'], ['圖書館', '冊', '矛盾', '矛盾', '矛盾', '矛盾', '矛盾', '行李車', '行李車', '行李車', '行李車', '行李車', '行李車', '行李車', '行李車', '行李車', '行李車', '行李車'], ['用', '矛盾', '矛盾', '矛盾', '矛盾', '矛盾', '矛盾', '矛盾', '矛盾', '矛盾', '矛盾', '矛盾', '矛盾', '矛盾', '矛盾', '矛盾', '矛盾', '矛盾'], ['冊', '矛盾', '矛盾', '矛盾', '矛盾', '矛盾', '矛盾', '矛盾', '矛盾', '矛盾', '矛盾', '矛盾', '矛盾', '矛盾', '矛盾', '矛盾', '矛盾', '矛盾'], ['冊', '機', '機', '矛盾', '矛盾', '矛盾', '矛盾', '矛盾', '轟', '轟', '轟', '轟', '轟', '轟', '轟', '轟', '轟', '轟'], ['聽錯', '矛盾', '矛盾', '矛盾', '矛盾', '矛盾', '矛盾', '矛盾', '五', '五', '五', '五', '五', '五', '五', '五', '轟', '轟'], ['銷售', '矛盾', '矛盾', '矛盾', '矛盾', '矛盾', '矛盾', '矛盾', '矛盾', '矛盾', '矛盾', '矛盾', '矛盾', '矛盾', '矛盾', '矛盾', '矛盾', '矛盾'], ['圖書館', '圖書館', '矛盾', '矛盾', '矛盾', '矛盾', '矛盾', '矛盾', '矛盾', '聽錯', '聽錯', '聽錯', '聽錯', '聽錯', '聽錯', '聽錯', '聽錯', '聽錯'], ['冊', '矛盾', '矛盾', '矛盾', '矛盾', '矛盾', '矛盾', '矛盾', '矛盾', '矛盾', '矛盾', '矛盾', '矛盾', '矛盾', '矛盾', '矛盾', '矛盾', '矛盾'], ['待在', '待在', '症', '症', '不憤', '不憤', '會長', '會長', '會長', '會長', '會長', '會長', '會長', '會長', '說', '說', '說', '說'], ['冊', '冊', '捆', '捆', '捆', '行李車', '行李車', '行李車', '行李車', '行李車', '行李車', '躺在', '行李車', '行李車', '行李車', '兩個', '兩個', '兩個'], ['冊', '矛盾', '矛盾', '矛盾', '矛盾', '矛盾', '矛盾', '矛盾', '矛盾', '矛盾', '矛盾', '矛盾', '矛盾', '矛盾', '矛盾', '矛盾', '矛盾', '矛盾'], ['冊', '冊', '聽錯', '聽錯', '聽錯', '聽錯', '聽錯', '聽錯', '聽錯', '聽錯', '聽錯', '聽錯', '聽錯', '聽錯', '聽錯', '聽錯', '聽錯', '聽錯'], ['站在', '聽錯', '矛盾', '矛盾', '矛盾', '以及', '以及', '以及', '以及', '以及', '以及', '以及', '以及', '以及', '以及', '以及', '以及', '以及'], ['站在', '借光', '捆', '矛盾', '矛盾', '犯', '犯', '犯', '犯', '犯', '犯', '犯', '犯', '犯', '犯', '犯', '犯', '犯'], ['站在', '站在', '觸', '觸', '觸', '觸', '觸', '觸', '觸', '觸', '觸', '觸', '觸', '觸', '觸', '觸', '觸', '觸'], ['冊', '矛盾', '矛盾', '矛盾', '矛盾', '矛盾', '矛盾', '矛盾', '矛盾', '矛盾', '矛盾', '矛盾', '矛盾', '矛盾', '矛盾', '矛盾', '矛盾', '矛盾'], ['站在', '冊', '矛盾', '矛盾', '矛盾', '矛盾', '矛盾', '矛盾', '矛盾', '冷血', '冷血', '冷血', '冷血', '冷血', '冷血', '冷血', '冷血', '冷血'], ['站在', '冊', '時代', '時代', '以及', '以及', '以及', '以及', '以及', '以及', '老實說', '老實說', '老實說', '老實說', '老實說', '老實說', '老實說', '老實說'], ['銷售', '銷售', '矛盾', '矛盾', '矛盾', '矛盾', '矛盾', '矛盾', '矛盾', '矛盾', '矛盾', '矛盾', '矛盾', '矛盾', '矛盾', '矛盾', '矛盾', '矛盾']]"
   ]
  },
  {
   "cell_type": "code",
   "execution_count": 24,
   "metadata": {},
   "outputs": [
    {
     "name": "stdout",
     "output_type": "stream",
     "text": [
      "840\n"
     ]
    }
   ],
   "source": [
    "print(zh_word2idx['矛盾'])"
   ]
  },
  {
   "cell_type": "code",
   "execution_count": 23,
   "metadata": {},
   "outputs": [
    {
     "name": "stdout",
     "output_type": "stream",
     "text": [
      "INFO:tensorflow:Restoring parameters from ./data/check_sentence.ckpt\n",
      "accuracy.{} 0.9315069\n"
     ]
    },
    {
     "ename": "UnboundLocalError",
     "evalue": "local variable 'sentence' referenced before assignment",
     "output_type": "error",
     "traceback": [
      "\u001b[0;31m---------------------------------------------------------------------------\u001b[0m",
      "\u001b[0;31mUnboundLocalError\u001b[0m                         Traceback (most recent call last)",
      "\u001b[0;32m<ipython-input-23-91cfb39f4a59>\u001b[0m in \u001b[0;36m<module>\u001b[0;34m()\u001b[0m\n\u001b[0;32m----> 1\u001b[0;31m \u001b[0mcheck_sentence\u001b[0m\u001b[0;34m(\u001b[0m\u001b[0msentences\u001b[0m\u001b[0;34m,\u001b[0m\u001b[0mzh_vocab\u001b[0m\u001b[0;34m)\u001b[0m\u001b[0;34m\u001b[0m\u001b[0m\n\u001b[0m",
      "\u001b[0;32m<ipython-input-22-79f0c9185051>\u001b[0m in \u001b[0;36mcheck_sentence\u001b[0;34m(sentences, en_vocab)\u001b[0m\n\u001b[1;32m     14\u001b[0m \u001b[0;34m\u001b[0m\u001b[0m\n\u001b[1;32m     15\u001b[0m             \u001b[0mdata_padding\u001b[0m\u001b[0;34m(\u001b[0m\u001b[0msentences\u001b[0m\u001b[0;34m)\u001b[0m\u001b[0;34m\u001b[0m\u001b[0m\n\u001b[0;32m---> 16\u001b[0;31m             \u001b[0ml\u001b[0m\u001b[0;34m=\u001b[0m\u001b[0;34m[\u001b[0m\u001b[0;34m[\u001b[0m\u001b[0men_word2idx\u001b[0m\u001b[0;34m[\u001b[0m\u001b[0mword\u001b[0m\u001b[0;34m]\u001b[0m \u001b[0;32mfor\u001b[0m \u001b[0mword\u001b[0m \u001b[0;32min\u001b[0m \u001b[0msentence\u001b[0m \u001b[0;32mfor\u001b[0m \u001b[0msentence\u001b[0m \u001b[0;32min\u001b[0m \u001b[0msentences\u001b[0m\u001b[0;34m]\u001b[0m\u001b[0;34m]\u001b[0m\u001b[0;34m\u001b[0m\u001b[0m\n\u001b[0m\u001b[1;32m     17\u001b[0m             \u001b[0;32mreturn\u001b[0m \u001b[0msess\u001b[0m\u001b[0;34m.\u001b[0m\u001b[0mrun\u001b[0m\u001b[0;34m(\u001b[0m\u001b[0msoftmax_mean\u001b[0m\u001b[0;34m,\u001b[0m\u001b[0mfeed_dict\u001b[0m\u001b[0;34m=\u001b[0m\u001b[0;34m{\u001b[0m\u001b[0mX_var\u001b[0m\u001b[0;34m:\u001b[0m\u001b[0ml\u001b[0m \u001b[0;34m}\u001b[0m\u001b[0;34m)\u001b[0m\u001b[0;34m[\u001b[0m\u001b[0;36m1\u001b[0m\u001b[0;34m]\u001b[0m\u001b[0;34m\u001b[0m\u001b[0m\n\u001b[1;32m     18\u001b[0m         \u001b[0;32melse\u001b[0m\u001b[0;34m:\u001b[0m\u001b[0;34m\u001b[0m\u001b[0m\n",
      "\u001b[0;31mUnboundLocalError\u001b[0m: local variable 'sentence' referenced before assignment"
     ]
    }
   ],
   "source": [
    "check_sentence(sentences,zh_vocab)"
   ]
  },
  {
   "cell_type": "code",
   "execution_count": 20,
   "metadata": {},
   "outputs": [
    {
     "name": "stdout",
     "output_type": "stream",
     "text": [
      "INFO:tensorflow:Restoring parameters from ./data/check_sentence.ckpt\n",
      "0.47703755\n"
     ]
    }
   ],
   "source": [
    "op=tf.reduce_sum(tf.slice([[1,3],[1,3]],[0,1],[-1,1]))\n",
    "with tf.Session() as sess:\n",
    "    saver.restore(sess, checkpoint_path)\n",
    "    print(sess.run(softmax_mean,feed_dict={X_var:en_all_test }))"
   ]
  },
  {
   "cell_type": "code",
   "execution_count": null,
   "metadata": {},
   "outputs": [],
   "source": []
  }
 ],
 "metadata": {
  "kernelspec": {
   "display_name": "Python 3",
   "language": "python",
   "name": "python3"
  },
  "language_info": {
   "codemirror_mode": {
    "name": "ipython",
    "version": 3
   },
   "file_extension": ".py",
   "mimetype": "text/x-python",
   "name": "python",
   "nbconvert_exporter": "python",
   "pygments_lexer": "ipython3",
   "version": "3.6.3"
  }
 },
 "nbformat": 4,
 "nbformat_minor": 2
}
